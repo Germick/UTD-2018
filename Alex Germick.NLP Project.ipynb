{
 "cells": [
  {
   "cell_type": "markdown",
   "metadata": {},
   "source": [
    "# Spam Detector\n",
    "\n",
    "Github: "
   ]
  },
  {
   "cell_type": "code",
   "execution_count": 85,
   "metadata": {
    "collapsed": true
   },
   "outputs": [],
   "source": [
    "import pandas as pd\n",
    "import numpy as np\n",
    "import seaborn as sns\n",
    "import matplotlib.pyplot as plt\n",
    "from sklearn.naive_bayes import MultinomialNB\n",
    "from sklearn.ensemble import AdaBoostClassifier\n",
    "import re\n",
    "import nltk\n",
    "from nltk.stem import WordNetLemmatizer\n",
    "%matplotlib inline"
   ]
  },
  {
   "cell_type": "code",
   "execution_count": 93,
   "metadata": {},
   "outputs": [
    {
     "data": {
      "text/plain": [
       "(6335, 3)"
      ]
     },
     "execution_count": 93,
     "metadata": {},
     "output_type": "execute_result"
    }
   ],
   "source": [
    "## Import Data\n",
    "my_data = pd.read_csv(\"fake_or_real_news.csv\")\n",
    "my_data= my_data.drop(\"Unnamed: 0\", axis=1)\n",
    "my_data = pd.get_dummies(my_data, columns=[\"label\"], drop_first= True)\n",
    "my_data.shape"
   ]
  },
  {
   "cell_type": "code",
   "execution_count": 94,
   "metadata": {},
   "outputs": [
    {
     "data": {
      "text/html": [
       "<div>\n",
       "<style scoped>\n",
       "    .dataframe tbody tr th:only-of-type {\n",
       "        vertical-align: middle;\n",
       "    }\n",
       "\n",
       "    .dataframe tbody tr th {\n",
       "        vertical-align: top;\n",
       "    }\n",
       "\n",
       "    .dataframe thead th {\n",
       "        text-align: right;\n",
       "    }\n",
       "</style>\n",
       "<table border=\"1\" class=\"dataframe\">\n",
       "  <thead>\n",
       "    <tr style=\"text-align: right;\">\n",
       "      <th></th>\n",
       "      <th>label_REAL</th>\n",
       "      <th>textLen</th>\n",
       "      <th>titleLen</th>\n",
       "      <th>textWord</th>\n",
       "      <th>titleWord</th>\n",
       "      <th>wordAvg</th>\n",
       "    </tr>\n",
       "  </thead>\n",
       "  <tbody>\n",
       "    <tr>\n",
       "      <th>0</th>\n",
       "      <td>0</td>\n",
       "      <td>7518</td>\n",
       "      <td>28</td>\n",
       "      <td>1298</td>\n",
       "      <td>5</td>\n",
       "      <td>5.791988</td>\n",
       "    </tr>\n",
       "    <tr>\n",
       "      <th>1</th>\n",
       "      <td>0</td>\n",
       "      <td>2646</td>\n",
       "      <td>85</td>\n",
       "      <td>446</td>\n",
       "      <td>14</td>\n",
       "      <td>5.932735</td>\n",
       "    </tr>\n",
       "    <tr>\n",
       "      <th>2</th>\n",
       "      <td>1</td>\n",
       "      <td>2543</td>\n",
       "      <td>43</td>\n",
       "      <td>423</td>\n",
       "      <td>9</td>\n",
       "      <td>6.011820</td>\n",
       "    </tr>\n",
       "    <tr>\n",
       "      <th>3</th>\n",
       "      <td>0</td>\n",
       "      <td>2660</td>\n",
       "      <td>84</td>\n",
       "      <td>404</td>\n",
       "      <td>15</td>\n",
       "      <td>6.584158</td>\n",
       "    </tr>\n",
       "    <tr>\n",
       "      <th>4</th>\n",
       "      <td>1</td>\n",
       "      <td>1840</td>\n",
       "      <td>48</td>\n",
       "      <td>307</td>\n",
       "      <td>9</td>\n",
       "      <td>5.993485</td>\n",
       "    </tr>\n",
       "  </tbody>\n",
       "</table>\n",
       "</div>"
      ],
      "text/plain": [
       "   label_REAL  textLen  titleLen  textWord  titleWord   wordAvg\n",
       "0           0     7518        28      1298          5  5.791988\n",
       "1           0     2646        85       446         14  5.932735\n",
       "2           1     2543        43       423          9  6.011820\n",
       "3           0     2660        84       404         15  6.584158\n",
       "4           1     1840        48       307          9  5.993485"
      ]
     },
     "execution_count": 94,
     "metadata": {},
     "output_type": "execute_result"
    }
   ],
   "source": [
    "my_data['textLen'] = my_data['text'].str.len()\n",
    "my_data['titleLen'] = my_data['title'].str.len()\n",
    "\n",
    "my_data['textWord'] = my_data.text.apply(lambda x: len(str(x).split(' ')))\n",
    "my_data['titleWord'] = my_data.title.apply(lambda x: len(str(x).split(' ')))\n",
    "my_data['wordAvg'] = my_data['textLen']/my_data['textWord'] \n",
    "\n",
    "my_data= my_data.drop([\"title\",\"text\"], axis=1)"
   ]
  },
  {
   "cell_type": "code",
   "execution_count": 95,
   "metadata": {},
   "outputs": [],
   "source": [
    "my_data =my_data.as_matrix()\n",
    "np.random.shuffle(my_data)"
   ]
  },
  {
   "cell_type": "code",
   "execution_count": 99,
   "metadata": {},
   "outputs": [
    {
     "data": {
      "text/plain": [
       "array([ 1.,  0.,  1., ...,  0.,  0.,  0.])"
      ]
     },
     "execution_count": 99,
     "metadata": {},
     "output_type": "execute_result"
    }
   ],
   "source": [
    "X = my_data[:,1:5]\n",
    "Y = my_data[:,0]\n",
    "\n",
    "# last 100 rows will be test\n",
    "Xtrain = X[:-1000,]\n",
    "Ytrain = Y[:-1000,]\n",
    "Xtest = X[-1000:,]\n",
    "Ytest = Y[-1000:,]\n",
    "\n",
    "Y"
   ]
  },
  {
   "cell_type": "code",
   "execution_count": 100,
   "metadata": {},
   "outputs": [
    {
     "name": "stdout",
     "output_type": "stream",
     "text": [
      "Classification rate for NB: 0.625\n"
     ]
    }
   ],
   "source": [
    "model = MultinomialNB()\n",
    "model.fit(Xtrain, Ytrain)\n",
    "print (\"Classification rate for NB:\", model.score(Xtest, Ytest))"
   ]
  },
  {
   "cell_type": "code",
   "execution_count": 101,
   "metadata": {},
   "outputs": [
    {
     "name": "stdout",
     "output_type": "stream",
     "text": [
      "Classification rate for AdaBoost: 0.683\n"
     ]
    }
   ],
   "source": [
    "model = AdaBoostClassifier()\n",
    "model.fit(Xtrain, Ytrain)\n",
    "print (\"Classification rate for AdaBoost:\", model.score(Xtest, Ytest))"
   ]
  }
 ],
 "metadata": {
  "kernelspec": {
   "display_name": "Python 3",
   "language": "python",
   "name": "python3"
  },
  "language_info": {
   "codemirror_mode": {
    "name": "ipython",
    "version": 3
   },
   "file_extension": ".py",
   "mimetype": "text/x-python",
   "name": "python",
   "nbconvert_exporter": "python",
   "pygments_lexer": "ipython3",
   "version": "3.6.3"
  }
 },
 "nbformat": 4,
 "nbformat_minor": 2
}
